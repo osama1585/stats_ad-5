{
 "cells": [
  {
   "cell_type": "markdown",
   "id": "04d19e3d-b3b2-4b48-bcda-44a4f7b2dc3e",
   "metadata": {},
   "source": [
    "<span style=color:red;font-size:60px>ASSIGNMENT</span>"
   ]
  },
  {
   "cell_type": "markdown",
   "id": "fcb13371-2cd9-4943-9cf8-a8be845ec5fb",
   "metadata": {},
   "source": [
    "<span style=color:pink;font-size:60px>STATISTICS ADVANCE-5</span>"
   ]
  },
  {
   "cell_type": "markdown",
   "id": "350bd12c-5412-4208-a04e-77a3082bd784",
   "metadata": {},
   "source": [
    "<span style=color:green>Q1. Calculate the 95% confidence interval for a sample of data with a mean of 50 and a standard deviation\n",
    "of 5 using Python. Interpret the results.</span>"
   ]
  },
  {
   "cell_type": "markdown",
   "id": "389b68e3-8ec0-4f9a-a196-cc22810caf46",
   "metadata": {},
   "source": [
    "Ans-"
   ]
  },
  {
   "cell_type": "markdown",
   "id": "1a717f03-54d9-4862-860d-7a6eb51c7a27",
   "metadata": {},
   "source": [
    "## Calculating 95% Confidence Interval in Python\n",
    "\n",
    "In this example, we will use Python to calculate the 95% confidence interval for a sample with a mean of 50 and a standard deviation of 5.\n",
    "\n",
    "```python\n"
   ]
  },
  {
   "cell_type": "code",
   "execution_count": 2,
   "id": "90911db4-14d9-499d-a29f-a31efaed958a",
   "metadata": {},
   "outputs": [
    {
     "data": {
      "text/plain": [
       "(48.210805856282846, 51.789194143717154)"
      ]
     },
     "execution_count": 2,
     "metadata": {},
     "output_type": "execute_result"
    }
   ],
   "source": [
    "import numpy as np\n",
    "from scipy import stats\n",
    "\n",
    "# Given data\n",
    "sample_mean = 50\n",
    "sample_std_dev = 5\n",
    "sample_size = 30  # Adjust the sample size as needed\n",
    "\n",
    "# Z-score for a 95% confidence interval\n",
    "z_score = stats.norm.ppf((1 + 0.95) / 2)\n",
    "\n",
    "# Calculate confidence interval\n",
    "margin_of_error = z_score * (sample_std_dev / np.sqrt(sample_size))\n",
    "confidence_interval = (sample_mean - margin_of_error, sample_mean + margin_of_error)\n",
    "\n",
    "confidence_interval\n"
   ]
  },
  {
   "cell_type": "markdown",
   "id": "747b1faa-ae0a-4d4b-9d4f-996817b8a464",
   "metadata": {},
   "source": [
    "<span style=color:green>Q2. Conduct a chi-square goodness of fit test to determine if the distribution of colors of M&Ms in a bag\n",
    "matches the expected distribution of 20% blue, 20% orange, 20% green, 10% yellow, 10% red, and 20%\n",
    "brown. Use Python to perform the test with a significance level of 0.05.</span>"
   ]
  },
  {
   "cell_type": "markdown",
   "id": "375c98e5-483f-49a4-b5d2-9c54ecd662b3",
   "metadata": {},
   "source": [
    "Ans-"
   ]
  },
  {
   "cell_type": "markdown",
   "id": "84c914e7-0d08-4ed3-a87c-95183e2e8e40",
   "metadata": {},
   "source": [
    "## Chi-Square Goodness-of-Fit Test for M&M Colors Distribution\n",
    "\n",
    "In this example, we will use Python to conduct a chi-square goodness-of-fit test to determine if the distribution of colors of M&Ms in a bag matches the expected distribution.\n",
    "\n",
    "### Given Data\n",
    "\n",
    "- Observed Counts:\n",
    "  - Blue: Observed count\n",
    "  - Orange: Observed count\n",
    "  - Green: Observed count\n",
    "  - Yellow: Observed count\n",
    "  - Red: Observed count\n",
    "  - Brown: Observed count\n",
    "\n",
    "- Expected Proportions:\n",
    "  - Blue: 20%\n",
    "  - Orange: 20%\n",
    "  - Green: 20%\n",
    "  - Yellow: 10%\n",
    "  - Red: 10%\n",
    "  - Brown: 20%\n",
    "\n",
    "### Hypotheses\n",
    "\n",
    "The null hypothesis (\\(H_0\\)) and alternative hypothesis (\\(H_1\\)) are formulated as follows:\n",
    "\n",
    "\\[ H_0: \\text{The observed distribution matches the expected distribution.} \\]\n",
    "\\[ H_1: \\text{The observed distribution does not match the expected distribution.} \\]\n",
    "\n",
    "### Chi-Square Goodness-of-Fit Test in Python"
   ]
  },
  {
   "cell_type": "code",
   "execution_count": 5,
   "id": "04a76e31-38b0-4425-8eb9-66dd046efa38",
   "metadata": {},
   "outputs": [
    {
     "data": {
      "text/plain": [
       "(2.011898627969378, 0.8474961962434209)"
      ]
     },
     "execution_count": 5,
     "metadata": {},
     "output_type": "execute_result"
    }
   ],
   "source": [
    "import numpy as np\n",
    "from scipy.stats import chi2_contingency\n",
    "\n",
    "# Replace these values with the actual counts for each color observed in your M&M bag\n",
    "observed_blue = 40\n",
    "observed_orange = 35\n",
    "observed_green = 25\n",
    "observed_yellow = 15\n",
    "observed_red = 15\n",
    "observed_brown = 30\n",
    "\n",
    "observed_counts = np.array([observed_blue, observed_orange, observed_green, observed_yellow, observed_red, observed_brown])\n",
    "\n",
    "# Expected proportions\n",
    "expected_proportions = np.array([0.20, 0.20, 0.20, 0.10, 0.10, 0.20])\n",
    "\n",
    "# Calculate expected counts\n",
    "expected_counts = expected_proportions * np.sum(observed_counts)\n",
    "\n",
    "# Perform chi-square goodness-of-fit test\n",
    "chi2_stat, p_value, degrees_of_freedom, expected = chi2_contingency([observed_counts, expected_counts])\n",
    "\n",
    "chi2_stat, p_value\n",
    "\n",
    "chi2_stat, p_value\n"
   ]
  },
  {
   "cell_type": "markdown",
   "id": "eeb48ddf-5068-412a-9463-a0c7c363e715",
   "metadata": {},
   "source": [
    "<span style=color:green>Q3. Use Python to calculate the chi-square statistic and p-value for a contingency table with the following\n",
    "data:</span>"
   ]
  },
  {
   "cell_type": "raw",
   "id": "d6000550-e0c8-46b5-818f-f23534ad7870",
   "metadata": {},
   "source": [
    "               Group A    Group B\n",
    "Outcome 1        20         15\n",
    "Outcome 2        10         25\n",
    "Outcome 3        15         20\n"
   ]
  },
  {
   "cell_type": "markdown",
   "id": "7a033684-86a8-4ccf-b56c-ce12df08da56",
   "metadata": {},
   "source": [
    "Ans-"
   ]
  },
  {
   "cell_type": "code",
   "execution_count": 7,
   "id": "5b78a4e1-73cb-4474-8f82-9a3775b44766",
   "metadata": {},
   "outputs": [
    {
     "data": {
      "text/plain": [
       "(5.833333333333334, 0.05411376622282158)"
      ]
     },
     "execution_count": 7,
     "metadata": {},
     "output_type": "execute_result"
    }
   ],
   "source": [
    "import numpy as np\n",
    "from scipy.stats import chi2_contingency\n",
    "\n",
    "# Given data\n",
    "data = np.array([[20, 15],\n",
    "                 [10, 25],\n",
    "                 [15, 20]])\n",
    "\n",
    "# Perform chi-square test\n",
    "chi2_stat, p_value, degrees_of_freedom, expected = chi2_contingency(data)\n",
    "\n",
    "chi2_stat, p_value\n"
   ]
  },
  {
   "cell_type": "markdown",
   "id": "cab92c51-1e08-4762-852b-57f0fa6f8392",
   "metadata": {},
   "source": [
    "<span style=color:green>Q4. A study of the prevalence of smoking in a population of 500 individuals found that 60 individuals\n",
    "smoked. Use Python to calculate the 95% confidence interval for the true proportion of individuals in the\n",
    "population who smoke.</span>"
   ]
  },
  {
   "cell_type": "markdown",
   "id": "ccfc872e-5f98-4742-a906-110c534f6510",
   "metadata": {},
   "source": [
    "Ans-"
   ]
  },
  {
   "cell_type": "markdown",
   "id": "b62b2e49-f67b-4a6b-b67f-e6f7528d7744",
   "metadata": {},
   "source": [
    "To calcmulate the 95% confidence interval for the true proportion of individuals in the population who smoke"
   ]
  },
  {
   "cell_type": "code",
   "execution_count": 9,
   "id": "5c680a9e-8d94-43ba-902d-d144031cdf4c",
   "metadata": {},
   "outputs": [
    {
     "data": {
      "text/plain": [
       "(0.09151638887130707, 0.1484836111286929)"
      ]
     },
     "execution_count": 9,
     "metadata": {},
     "output_type": "execute_result"
    }
   ],
   "source": [
    "import numpy as np\n",
    "from scipy.stats import norm\n",
    "\n",
    "# Given data\n",
    "population_size = 500\n",
    "smokers_count = 60\n",
    "\n",
    "# Calculate the sample proportion\n",
    "sample_proportion = smokers_count / population_size\n",
    "\n",
    "# Z-score for a 95% confidence interval\n",
    "z_score = norm.ppf((1 + 0.95) / 2)\n",
    "\n",
    "# Calculate the standard error of the proportion\n",
    "standard_error = np.sqrt((sample_proportion * (1 - sample_proportion)) / population_size)\n",
    "\n",
    "# Calculate the margin of error\n",
    "margin_of_error = z_score * standard_error\n",
    "\n",
    "# Calculate the confidence interval\n",
    "confidence_interval = (sample_proportion - margin_of_error, sample_proportion + margin_of_error)\n",
    "\n",
    "confidence_interval\n"
   ]
  },
  {
   "cell_type": "markdown",
   "id": "a3a48dc1-d603-4341-8866-73f1a99874da",
   "metadata": {},
   "source": [
    "<span style=color:green>Q5. Calculate the 90% confidence interval for a sample of data with a mean of 75 and a standard deviation\n",
    "of 12 using Python. Interpret the results</span>"
   ]
  },
  {
   "cell_type": "markdown",
   "id": "36515d70-66ac-47b0-a072-8ebcaad80499",
   "metadata": {},
   "source": [
    "Ans-"
   ]
  },
  {
   "cell_type": "code",
   "execution_count": 10,
   "id": "61580375-6509-4a71-a661-49e00dbfd71b",
   "metadata": {},
   "outputs": [
    {
     "data": {
      "text/plain": [
       "(71.27739919800369, 78.72260080199631)"
      ]
     },
     "execution_count": 10,
     "metadata": {},
     "output_type": "execute_result"
    }
   ],
   "source": [
    "import numpy as np\n",
    "from scipy.stats import t\n",
    "\n",
    "# Given data\n",
    "sample_mean = 75\n",
    "sample_std_dev = 12\n",
    "sample_size = 30  # Adjust the sample size as needed\n",
    "\n",
    "# Degrees of freedom for a t-distribution\n",
    "degrees_of_freedom = sample_size - 1\n",
    "\n",
    "# T-score for a 90% confidence interval\n",
    "t_score = t.ppf((1 + 0.90) / 2, df=degrees_of_freedom)\n",
    "\n",
    "# Calculate the margin of error\n",
    "margin_of_error = t_score * (sample_std_dev / np.sqrt(sample_size))\n",
    "\n",
    "# Calculate the confidence interval\n",
    "confidence_interval = (sample_mean - margin_of_error, sample_mean + margin_of_error)\n",
    "\n",
    "confidence_interval\n"
   ]
  },
  {
   "cell_type": "markdown",
   "id": "6e773731-33a8-4057-a73c-cdbcff08d1df",
   "metadata": {},
   "source": [
    "<span style=color:green>Q6. Use Python to plot the chi-square distribution with 10 degrees of freedom. Label the axes and shade the\n",
    "area corresponding to a chi-square statistic of 15.</span>"
   ]
  },
  {
   "cell_type": "markdown",
   "id": "028f70fb-be70-4e9c-ace6-3b9985d63b23",
   "metadata": {},
   "source": [
    "Ans-"
   ]
  },
  {
   "cell_type": "code",
   "execution_count": 11,
   "id": "9534174e-20be-473c-9f07-b27ef72dcde0",
   "metadata": {},
   "outputs": [
    {
     "data": {
      "image/png": "[encoded data removed]",
      "text/plain": [
       "<Figure size 640x480 with 1 Axes>"
      ]
     },
     "metadata": {},
     "output_type": "display_data"
    }
   ],
   "source": [
    "import numpy as np\n",
    "import matplotlib.pyplot as plt\n",
    "from scipy.stats import chi2\n",
    "\n",
    "# Degrees of freedom\n",
    "df = 10\n",
    "\n",
    "# Generate x values\n",
    "x_values = np.linspace(0, 30, 1000)\n",
    "\n",
    "# Plot the chi-square distribution\n",
    "plt.plot(x_values, chi2.pdf(x_values, df), label=f'Chi-Square Distribution (df={df})')\n",
    "\n",
    "# Shade the area corresponding to a chi-square statistic of 15\n",
    "x_shade = np.linspace(0, 15, 1000)\n",
    "plt.fill_between(x_shade, chi2.pdf(x_shade, df), color='orange', alpha=0.5, label='Shaded Area (Chi-Square Statistic = 15)')\n",
    "\n",
    "# Label the axes\n",
    "plt.xlabel('Chi-Square Statistic')\n",
    "plt.ylabel('Probability Density Function')\n",
    "plt.title('Chi-Square Distribution with 10 Degrees of Freedom')\n",
    "\n",
    "# Add legend\n",
    "plt.legend()\n",
    "\n",
    "# Show the plot\n",
    "plt.show()\n"
   ]
  },
  {
   "cell_type": "markdown",
   "id": "664f9ae3-cad8-429a-abb6-afdc655214fb",
   "metadata": {},
   "source": [
    "<span style=color:green>Q7. A random sample of 1000 people was asked if they preferred Coke or Pepsi. Of the sample, 520\n",
    "preferred Coke. Calculate a 99% confidence interval for the true proportion of people in the population who\n",
    "prefer Coke.</span>"
   ]
  },
  {
   "cell_type": "markdown",
   "id": "339e8f45-f532-4473-9fa4-abfb7c2134e6",
   "metadata": {},
   "source": [
    "Ans-"
   ]
  },
  {
   "cell_type": "code",
   "execution_count": 12,
   "id": "418ea039-73cf-4b1b-a16f-21f1f4298fe3",
   "metadata": {},
   "outputs": [
    {
     "data": {
      "text/plain": [
       "(0.4793051576779699, 0.5606948423220302)"
      ]
     },
     "execution_count": 12,
     "metadata": {},
     "output_type": "execute_result"
    }
   ],
   "source": [
    "import numpy as np\n",
    "from scipy.stats import norm\n",
    "\n",
    "# Given data\n",
    "sample_size = 1000\n",
    "coke_preference = 520\n",
    "\n",
    "# Calculate the sample proportion\n",
    "sample_proportion = coke_preference / sample_size\n",
    "\n",
    "# Z-score for a 99% confidence interval\n",
    "z_score = norm.ppf((1 + 0.99) / 2)\n",
    "\n",
    "# Calculate the standard error of the proportion\n",
    "standard_error = np.sqrt((sample_proportion * (1 - sample_proportion)) / sample_size)\n",
    "\n",
    "# Calculate the margin of error\n",
    "margin_of_error = z_score * standard_error\n",
    "\n",
    "# Calculate the confidence interval\n",
    "confidence_interval = (sample_proportion - margin_of_error, sample_proportion + margin_of_error)\n",
    "\n",
    "confidence_interval\n"
   ]
  },
  {
   "cell_type": "markdown",
   "id": "d3ab1748-6f61-464a-b850-d77d2623c178",
   "metadata": {},
   "source": [
    "<span style=color:green>Q8. A researcher hypothesizes that a coin is biased towards tails. They flip the coin 100 times and observe\n",
    "45 tails. Conduct a chi-square goodness of fit test to determine if the observed frequencies match the\n",
    "expected frequencies of a fair coin. Use a significance level of 0.05</span>"
   ]
  },
  {
   "cell_type": "markdown",
   "id": "a1575567-b556-46e4-b580-9d412665a850",
   "metadata": {},
   "source": [
    "Ans-"
   ]
  },
  {
   "cell_type": "code",
   "execution_count": 13,
   "id": "e324f645-29a0-4517-85e0-cbd9b63044a7",
   "metadata": {},
   "outputs": [
    {
     "data": {
      "text/plain": [
       "(0.3208020050125313, 0.5711260675200032)"
      ]
     },
     "execution_count": 13,
     "metadata": {},
     "output_type": "execute_result"
    }
   ],
   "source": [
    "import numpy as np\n",
    "from scipy.stats import chi2_contingency\n",
    "\n",
    "# Given data\n",
    "observed_tails = 45\n",
    "expected_tails = 50  # Expected tails for a fair coin\n",
    "\n",
    "# Construct the observed and expected frequency arrays\n",
    "observed_frequencies = np.array([observed_tails, 100 - observed_tails])\n",
    "expected_frequencies = np.array([expected_tails, 100 - expected_tails])\n",
    "\n",
    "# Perform chi-square goodness-of-fit test\n",
    "chi2_stat, p_value, degrees_of_freedom, expected = chi2_contingency([observed_frequencies, expected_frequencies])\n",
    "\n",
    "chi2_stat, p_value\n"
   ]
  },
  {
   "cell_type": "markdown",
   "id": "415b97bc-5c64-4ecb-a5f7-da9a71e7d44a",
   "metadata": {},
   "source": [
    "<span style=color:green>Q9. A study was conducted to determine if there is an association between smoking status (smoker or\n",
    "non-smoker) and lung cancer diagnosis (yes or no). The results are shown in the contingency table below.\n",
    "Conduct a chi-square test for independence to determine if there is a significant association between\n",
    "smoking status and lung cancer diagnosis.</span>"
   ]
  },
  {
   "cell_type": "markdown",
   "id": "7702f6e6-508f-4427-8249-b60898bb116c",
   "metadata": {},
   "source": [
    "Ans-"
   ]
  },
  {
   "cell_type": "code",
   "execution_count": 14,
   "id": "7251215e-ce07-4184-a196-07e66fda5f8f",
   "metadata": {},
   "outputs": [
    {
     "data": {
      "text/plain": [
       "(12.057347670250895, 0.0005158863863703744)"
      ]
     },
     "execution_count": 14,
     "metadata": {},
     "output_type": "execute_result"
    }
   ],
   "source": [
    "import numpy as np\n",
    "from scipy.stats import chi2_contingency\n",
    "\n",
    "# Given data\n",
    "observed_data = np.array([[60, 140], [30, 170]])\n",
    "\n",
    "# Perform chi-square test for independence\n",
    "chi2_stat, p_value, degrees_of_freedom, expected = chi2_contingency(observed_data)\n",
    "\n",
    "chi2_stat, p_value\n"
   ]
  },
  {
   "cell_type": "markdown",
   "id": "1614ea82-725d-48bc-849b-bc97b3e71df3",
   "metadata": {},
   "source": [
    "<span style=color:green>Q10. A study was conducted to determine if the proportion of people who prefer milk chocolate, dark\n",
    "chocolate, or white chocolate is different in the U.S. versus the U.K. A random sample of 500 people from\n",
    "the U.S. and a random sample of 500 people from the U.K. were surveyed. The results are shown in the\n",
    "contingency table below. Conduct a chi-square test for independence to determine if there is a significant\n",
    "association between chocolate preference and country of origin.</span>"
   ]
  },
  {
   "cell_type": "markdown",
   "id": "3ef14648-9550-4d2c-bbb0-5b9321e47ad7",
   "metadata": {},
   "source": [
    "Ans-"
   ]
  },
  {
   "cell_type": "code",
   "execution_count": 16,
   "id": "7498fa4b-5ac0-442e-966e-61b39cc60a22",
   "metadata": {},
   "outputs": [
    {
     "data": {
      "text/plain": [
       "(13.393665158371041, 0.0012348168997745918)"
      ]
     },
     "execution_count": 16,
     "metadata": {},
     "output_type": "execute_result"
    }
   ],
   "source": [
    "import numpy as np\n",
    "from scipy.stats import chi2_contingency\n",
    "\n",
    "# Given data\n",
    "observed_data = np.array([[200, 150, 150], [225, 175, 100]])\n",
    "\n",
    "# Perform chi-square test for independence\n",
    "chi2_stat, p_value, degrees_of_freedom, expected = chi2_contingency(observed_data)\n",
    "\n",
    "chi2_stat, p_value\n"
   ]
  },
  {
   "cell_type": "code",
   "execution_count": null,
   "id": "4cf40d18-e619-460d-bfb6-23a4f8d562dc",
   "metadata": {},
   "outputs": [],
   "source": [
    "<span style="
   ]
  }
 ],
 "metadata": {
  "kernelspec": {
   "display_name": "Python 3 (ipykernel)",
   "language": "python",
   "name": "python3"
  },
  "language_info": {
   "codemirror_mode": {
    "name": "ipython",
    "version": 3
   },
   "file_extension": ".py",
   "mimetype": "text/x-python",
   "name": "python",
   "nbconvert_exporter": "python",
   "pygments_lexer": "ipython3",
   "version": "3.10.8"
  }
 },
 "nbformat": 4,
 "nbformat_minor": 5
}
